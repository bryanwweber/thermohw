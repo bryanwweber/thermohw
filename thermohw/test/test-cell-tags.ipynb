{
 "cells": [
  {
   "cell_type": "markdown",
   "metadata": {},
   "source": [
    "# Homework 8-2\n",
    "\n",
    "---\n",
    "\n",
    "## Imports"
   ]
  },
  {
   "cell_type": "code",
   "execution_count": 1,
   "metadata": {
    "tags": [
     "imports"
    ]
   },
   "outputs": [],
   "source": [
    "from thermostate import State, Q_, units, SystemInternational as SI"
   ]
  },
  {
   "cell_type": "markdown",
   "metadata": {},
   "source": [
    "---\n",
    "\n",
    "## Definitions"
   ]
  },
  {
   "cell_type": "code",
   "execution_count": 3,
   "metadata": {
    "tags": [
     "definitions"
    ]
   },
   "outputs": [],
   "source": [
    "sub_1 = 'air'\n",
    "sub_2 = 'water'\n",
    "\n",
    "V = Q_(3.2E4, 'm**3')\n",
    "T = Q_(27.0, 'degC')\n",
    "p = Q_(1.0, 'bar')\n",
    "\n",
    "omega = Q_(0.01, 'dimensionless')"
   ]
  },
  {
   "cell_type": "markdown",
   "metadata": {},
   "source": [
    "---\n",
    "\n",
    "## Problem Statement"
   ]
  },
  {
   "cell_type": "markdown",
   "metadata": {
    "tags": [
     "problem-statement"
    ],
    "variables": {
     "f\"{T:~H}\"": "27.0 celsius",
     "f\"{V:.0F~H}\"": "32000 m<sup>3</sup>",
     "f\"{omega:~H}\"": "0.01",
     "f\"{p:~H}\"": "1.0 bar"
    }
   },
   "source": [
    "A lecture hall having a volume of {{f\"{V:.0F~H}\"}} contains moist air at {{f\"{T:~H}\"}}, {{f\"{p:~H}\"}}, and a humidity ratio of {{f\"{omega:~H}\"}}. Determine\n",
    "\n",
    "1. the relative humidity\n",
    "2. the dew point temperature, in degC\n",
    "3. the mass of water vapor contained in the room, in kg"
   ]
  },
  {
   "cell_type": "markdown",
   "metadata": {
    "tags": [
     "solution"
    ]
   },
   "source": [
    "---\n",
    "\n",
    "## Solution"
   ]
  },
  {
   "cell_type": "markdown",
   "metadata": {
    "tags": [
     "part"
    ]
   },
   "source": [
    "### 1. the relative humidity"
   ]
  },
  {
   "cell_type": "markdown",
   "metadata": {},
   "source": [
    "By definition, the relative humidity is the ratio of the partial pressure of vapor to the saturation pressure at the mixture temperature and pressure\n",
    "$$\\phi = \\left.\\frac{p_v}{p_g}\\right|_{T, p}$$\n",
    "Since the humidity ratio is given, and\n",
    "$$\\omega = 0.622\\frac{p_v}{p - p_v}$$\n",
    "$p_v$ can be found. Solving for $p_v$\n",
    "$$p_v = \\frac{\\omega p}{0.622 + \\omega}$$\n",
    "The saturation pressure is found from ThermoState at the mixture temperature and a quality of 1.0."
   ]
  },
  {
   "cell_type": "code",
   "execution_count": 5,
   "metadata": {},
   "outputs": [],
   "source": [
    "p_v = omega*p/(0.622 + omega)\n",
    "st_g = State(sub_2, T=T, x=Q_(1.0, 'dimensionless'))\n",
    "p_g = st_g.p.to('bar')\n",
    "phi = p_v/p_g"
   ]
  },
  {
   "cell_type": "markdown",
   "metadata": {
    "tags": [
     "answer"
    ],
    "variables": {
     "f\"{p_g:.3F~H}\"": "0.036 bar",
     "f\"{p_v:.3F~H}\"": "0.016 bar",
     "f\"{phi:.2%~H}\"": "44.34%",
     "f\"{phi:.4F~H}\"": "0.4434"
    }
   },
   "source": [
    "<div class=\"alert alert-success\">\n",
    "\n",
    "**Answer:** The actual partial pressure of the water vapor is $p_v =$ {{f\"{p_v:.3F~H}\"}}, the saturation pressure is $p_g =$ {{f\"{p_g:.3F~H}\"}}, and the relative humidity is $\\phi =$ {{f\"{phi:.4F~H}\"}} = {{f\"{phi:.2%~H}\"}}.\n",
    "\n",
    "</div>"
   ]
  },
  {
   "cell_type": "markdown",
   "metadata": {
    "tags": [
     "part"
    ]
   },
   "source": [
    "### 2. the dew point temperature"
   ]
  },
  {
   "cell_type": "markdown",
   "metadata": {},
   "source": [
    "To find the dew point temperature, we assume a constant total pressure cooling process. Thus, the dew point temperature is the saturation temperature when the partial pressure of water remains constant. We can find the saturation temperature by using the partial pressure of water and the quality."
   ]
  },
  {
   "cell_type": "code",
   "execution_count": 6,
   "metadata": {},
   "outputs": [],
   "source": [
    "st_dew = State(sub_2, p=p_v, x=Q_(1.0, 'dimensionless'))\n",
    "T_dew = st_dew.T.to('degC')"
   ]
  },
  {
   "cell_type": "markdown",
   "metadata": {
    "tags": [
     "answer"
    ],
    "variables": {
     "f\"{T_dew:.2F~H}\"": "13.84 celsius"
    }
   },
   "source": [
    "<div class=\"alert alert-success\">\n",
    "\n",
    "**Answer:** The dew point temperature is $T_d =$ {{f\"{T_dew:.2F~H}\"}}\n",
    "\n",
    "</div>"
   ]
  },
  {
   "cell_type": "markdown",
   "metadata": {
    "tags": [
     "part"
    ]
   },
   "source": [
    "### 3. the mass of water vapor"
   ]
  },
  {
   "cell_type": "markdown",
   "metadata": {},
   "source": [
    "The mass of water vapor can be found by using the ideal gas law\n",
    "$$m_v = \\frac{p_v V}{R T}$$"
   ]
  },
  {
   "cell_type": "code",
   "execution_count": 7,
   "metadata": {},
   "outputs": [],
   "source": [
    "MW_water = Q_(18.02, 'kg/kmol')\n",
    "m_v = (p_v*V*MW_water/(units.molar_gas_constant*T)).to('kg')"
   ]
  },
  {
   "cell_type": "markdown",
   "metadata": {
    "tags": [
     "answer"
    ],
    "variables": {
     "f\"{m_v:.2F~H}\"": "365.61 kg"
    }
   },
   "source": [
    "<div class=\"alert alert-success\">\n",
    "\n",
    "**Answer:** The mass of the water vapor is $m_v =$ {{f\"{m_v:.2F~H}\"}}\n",
    "\n",
    "</div>"
   ]
  }
 ],
 "metadata": {
  "kernelspec": {
   "display_name": "Python 3",
   "language": "python",
   "name": "python3"
  },
  "language_info": {
   "codemirror_mode": {
    "name": "ipython",
    "version": 3
   },
   "file_extension": ".py",
   "mimetype": "text/x-python",
   "name": "python",
   "nbconvert_exporter": "python",
   "pygments_lexer": "ipython3",
   "version": "3.8.3"
  }
 },
 "nbformat": 4,
 "nbformat_minor": 2
}
