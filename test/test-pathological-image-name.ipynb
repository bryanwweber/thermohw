{
 "cells": [
  {
   "attachments": {
    "%28%29%40%23%24%25%5E%26%2A%21%3C%3E%3F%2C%7B%7D%5B%5D%5C%7C%7E%60%2B%3D%20.png": {
     "image/png": "[encoded data removed]"
    }
   },
   "cell_type": "markdown",
   "metadata": {},
   "source": [
    "![%28%29%40%23%24%25%5E%26%2A%21%3C%3E%3F%2C%7B%7D%5B%5D%5C%7C%7E%60%2B%3D%20.png](attachment:%28%29%40%23%24%25%5E%26%2A%21%3C%3E%3F%2C%7B%7D%5B%5D%5C%7C%7E%60%2B%3D%20.png)"
   ]
  }
 ],
 "metadata": {
  "kernelspec": {
   "display_name": "Python 3",
   "language": "python",
   "name": "python3"
  },
  "language_info": {
   "codemirror_mode": {
    "name": "ipython",
    "version": 3
   },
   "file_extension": ".py",
   "mimetype": "text/x-python",
   "name": "python",
   "nbconvert_exporter": "python",
   "pygments_lexer": "ipython3",
   "version": "3.6.6"
  }
 },
 "nbformat": 4,
 "nbformat_minor": 2
}
